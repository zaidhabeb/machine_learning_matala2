{
  "cells": [
    {
      "cell_type": "markdown",
      "source": [
        "# **zaid habiballah - 322513433**\n",
        "\n",
        "https://github.com/zaidhabeb/machine_learning_matala2"
      ],
      "metadata": {
        "id": "0JE17CRL0Pwe"
      }
    },
    {
      "cell_type": "code",
      "source": [
        "import numpy as np\n",
        "import tensorflow as tf\n",
        "from tensorflow.keras.models import Sequential\n",
        "from tensorflow.keras.layers import Dense, Flatten, Dropout, BatchNormalization\n",
        "from tensorflow.keras.datasets import mnist\n",
        "from tensorflow.keras.utils import to_categorical\n",
        "from tensorflow.keras.regularizers import l2\n",
        "\n",
        "# Load MNIST data\n",
        "(x_train, y_train), (x_test, y_test) = mnist.load_data()\n",
        "\n",
        "# Normalize the data\n",
        "x_train = x_train.astype('float32') / 255.0\n",
        "x_test = x_test.astype('float32') / 255.0\n",
        "\n",
        "# One-hot encode the labels\n",
        "y_train = to_categorical(y_train, 10)\n",
        "y_test = to_categorical(y_test, 10)\n",
        "\n",
        "# Define the model based on ID example: 987654321\n",
        "model = Sequential()\n",
        "\n",
        "# Flatten layer to prepare the input\n",
        "model.add(Flatten(input_shape=(28, 28)))\n",
        "\n",
        "# First Fully Connected layer\n",
        "model.add(Dense(33, activation='sigmoid', kernel_regularizer=l2(0.1)))\n",
        "model.add(BatchNormalization())\n",
        "model.add(Dropout(0.1))\n",
        "\n",
        "# Second Fully Connected layer\n",
        "model.add(Dense(34, activation='sigmoid', kernel_regularizer=l2(0.1)))\n",
        "model.add(BatchNormalization())\n",
        "model.add(Dropout(0.1))\n",
        "\n",
        "# Third Fully Connected layer\n",
        "model.add(Dense(51, activation='sigmoid', kernel_regularizer=tf.keras.regularizers.l1(0.1)))\n",
        "model.add(BatchNormalization())\n",
        "model.add(Dropout(0.1))\n",
        "\n",
        "# Fourth Fully Connected layer\n",
        "model.add(Dense(22, activation='sigmoid', kernel_regularizer=tf.keras.regularizers.l1(0.1)))\n",
        "model.add(BatchNormalization())\n",
        "model.add(Dropout(0.1))\n",
        "\n",
        "# Output layer (10 neurons for 10 classes)\n",
        "model.add(Dense(10, activation='softmax'))\n",
        "\n",
        "# Compile the model\n",
        "model.compile(optimizer='adam', loss='categorical_crossentropy', metrics=['accuracy'])\n",
        "\n",
        "# Train the model\n",
        "history = model.fit(x_train, y_train, validation_split=0.2, epochs=10, batch_size=64, verbose=2)\n",
        "\n",
        "# Evaluate the model\n",
        "test_loss, test_accuracy = model.evaluate(x_test, y_test, verbose=0)\n",
        "print(f\"Test Accuracy: {test_accuracy * 100:.2f}%\")\n",
        "\n"
      ],
      "metadata": {
        "colab": {
          "base_uri": "https://localhost:8080/"
        },
        "id": "ndDujxMKfnR7",
        "outputId": "834fd74b-7eb7-4c03-fa2c-a7f7296f9466"
      },
      "execution_count": 23,
      "outputs": [
        {
          "output_type": "stream",
          "name": "stdout",
          "text": [
            "Epoch 1/10\n",
            "750/750 - 8s - 10ms/step - accuracy: 0.7811 - loss: 7.1333 - val_accuracy: 0.8586 - val_loss: 1.4247\n",
            "Epoch 2/10\n",
            "750/750 - 3s - 4ms/step - accuracy: 0.8186 - loss: 1.1276 - val_accuracy: 0.8697 - val_loss: 0.9551\n",
            "Epoch 3/10\n",
            "750/750 - 3s - 4ms/step - accuracy: 0.8191 - loss: 1.0578 - val_accuracy: 0.8480 - val_loss: 0.9634\n",
            "Epoch 4/10\n",
            "750/750 - 4s - 5ms/step - accuracy: 0.8207 - loss: 1.0292 - val_accuracy: 0.8455 - val_loss: 0.9523\n",
            "Epoch 5/10\n",
            "750/750 - 5s - 6ms/step - accuracy: 0.8194 - loss: 1.0042 - val_accuracy: 0.8702 - val_loss: 0.8523\n",
            "Epoch 6/10\n",
            "750/750 - 3s - 4ms/step - accuracy: 0.8205 - loss: 0.9919 - val_accuracy: 0.8341 - val_loss: 0.9433\n",
            "Epoch 7/10\n",
            "750/750 - 6s - 8ms/step - accuracy: 0.8201 - loss: 0.9766 - val_accuracy: 0.8609 - val_loss: 0.9045\n",
            "Epoch 8/10\n",
            "750/750 - 3s - 4ms/step - accuracy: 0.8191 - loss: 0.9717 - val_accuracy: 0.8361 - val_loss: 0.9201\n",
            "Epoch 9/10\n",
            "750/750 - 5s - 6ms/step - accuracy: 0.8210 - loss: 0.9625 - val_accuracy: 0.8540 - val_loss: 0.8487\n",
            "Epoch 10/10\n",
            "750/750 - 7s - 9ms/step - accuracy: 0.8217 - loss: 0.9543 - val_accuracy: 0.8871 - val_loss: 0.7656\n",
            "Test Accuracy: 88.54%\n"
          ]
        }
      ]
    }
  ],
  "metadata": {
    "colab": {
      "provenance": []
    },
    "kernelspec": {
      "display_name": "Python 3",
      "name": "python3"
    }
  },
  "nbformat": 4,
  "nbformat_minor": 0
}